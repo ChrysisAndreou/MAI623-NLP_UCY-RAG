{
  "nbformat": 4,
  "nbformat_minor": 0,
  "metadata": {
    "colab": {
      "provenance": [],
      "gpuType": "L4",
      "collapsed_sections": [
        "iOuqnCKQnYU0",
        "bQIG2xftqLf4",
        "qCnG1XL-2mSs"
      ],
      "machine_shape": "hm"
    },
    "kernelspec": {
      "name": "python3",
      "display_name": "Python 3"
    },
    "language_info": {
      "name": "python"
    },
    "accelerator": "GPU"
  },
  "cells": [
    {
      "cell_type": "markdown",
      "source": [
        "# Intro and setup"
      ],
      "metadata": {
        "id": "GmVqZ03cYLQL"
      }
    },
    {
      "cell_type": "markdown",
      "source": [
        "## I am DeepThought"
      ],
      "metadata": {
        "id": "cBnDOOGzhaEt"
      }
    },
    {
      "cell_type": "markdown",
      "source": [
        "I am DeepThought, a supercomputer designed to serve as a RAG system for answering questions about the University of Cyprus. I have been tested on 42 questions and answered them all correctly. I am ready for more!\n",
        "\n",
        "To clarify, the number 42 is my famous answer, known as the \"Answer to the Ultimate Question of Life, The Universe, and Everything\" from The Hitchhiker's Guide to the Galaxy by Douglas Adams. In my biography, as Douglas mentions, the actual question remains unknown, making the answer cryptic and humorous. So, keep asking questions until you find the ULTIMATE QUESTION!"
      ],
      "metadata": {
        "id": "VEMbszkEgIsJ"
      }
    },
    {
      "cell_type": "markdown",
      "source": [
        "## Instructions"
      ],
      "metadata": {
        "id": "23ogSwrahe8P"
      }
    },
    {
      "cell_type": "markdown",
      "source": [
        "Open the chrysisRagDeepThought_colab notebook and follow its instructions.\n",
        "\n",
        "Load the chrysisRagDeepThought_pre-run.zip folder, prepare a TOGETHER_API_KEY, and input it when prompted. Run the code in the specified order.\n",
        "\n",
        "The file chrysisRagDeepThought_outputs.zip will be downloaded after running all cells."
      ],
      "metadata": {
        "id": "i2lSwZlFfVOt"
      }
    },
    {
      "cell_type": "markdown",
      "source": [
        "## Unzip chrysisRagDeepThought_pre-run folder"
      ],
      "metadata": {
        "id": "cwcr9cqYhlZU"
      }
    },
    {
      "cell_type": "code",
      "source": [
        "!unzip chrysisRagDeepThought_pre-run.zip -d /content/"
      ],
      "metadata": {
        "id": "PTO4MDOgAU5S"
      },
      "execution_count": null,
      "outputs": []
    },
    {
      "cell_type": "markdown",
      "source": [
        "## Install requirements"
      ],
      "metadata": {
        "id": "CYi_lWomhouU"
      }
    },
    {
      "cell_type": "code",
      "source": [
        "!pip install -r requirements.txt"
      ],
      "metadata": {
        "id": "jF4GFr5IbBGa"
      },
      "execution_count": null,
      "outputs": []
    },
    {
      "cell_type": "markdown",
      "source": [
        "## Enter TOGETHER_API_KEY"
      ],
      "metadata": {
        "id": "C8142jzAhtPN"
      }
    },
    {
      "cell_type": "code",
      "source": [
        "import os\n",
        "from getpass import getpass\n",
        "\n",
        "# Prompt user for API key\n",
        "api_key = getpass('Enter your TOGETHER_API_KEY: ')\n",
        "\n",
        "# Set the environment variable\n",
        "os.environ['TOGETHER_API_KEY'] = api_key\n",
        "\n",
        "# Optional: Verify the variable is set (remove in production)\n",
        "print(\"API key set successfully!\")"
      ],
      "metadata": {
        "id": "t51SAzc_b-ab"
      },
      "execution_count": null,
      "outputs": []
    },
    {
      "cell_type": "markdown",
      "source": [
        "## Or set TOGETHER_API_KEY as secret key in colab"
      ],
      "metadata": {
        "id": "G-I994YrhxsZ"
      }
    },
    {
      "cell_type": "code",
      "source": [
        "from google.colab import userdata\n",
        "import os\n",
        "\n",
        "os.environ['TOGETHER_API_KEY'] = userdata.get('TOGETHER_API_KEY')\n",
        "\n",
        "if os.getenv('TOGETHER_API_KEY'):\n",
        "  print(\"TOGETHER_API_KEY loaded successfully.\")\n",
        "else:\n",
        "  print(\"Error: TOGETHER_API_KEY not found.\")"
      ],
      "metadata": {
        "colab": {
          "base_uri": "https://localhost:8080/"
        },
        "id": "4SlW3sKcAtO5",
        "outputId": "c8fb4991-40d6-4497-acef-b86e05b4f7cc"
      },
      "execution_count": 3,
      "outputs": [
        {
          "output_type": "stream",
          "name": "stdout",
          "text": [
            "TOGETHER_API_KEY loaded successfully.\n"
          ]
        }
      ]
    },
    {
      "cell_type": "markdown",
      "source": [
        "# 1) prepare dataset with 42 questions"
      ],
      "metadata": {
        "id": "oFXBGN8Ah714"
      }
    },
    {
      "cell_type": "code",
      "source": [
        "!python 1_dataset_pipeline.py"
      ],
      "metadata": {
        "id": "7KvTaaIya4NP",
        "colab": {
          "base_uri": "https://localhost:8080/"
        },
        "outputId": "0322a77d-41e6-4100-fc9c-dc6d4633c587"
      },
      "execution_count": 4,
      "outputs": [
        {
          "output_type": "stream",
          "name": "stdout",
          "text": [
            "2025-05-06 03:18:44.219861: I tensorflow/core/util/port.cc:153] oneDNN custom operations are on. You may see slightly different numerical results due to floating-point round-off errors from different computation orders. To turn them off, set the environment variable `TF_ENABLE_ONEDNN_OPTS=0`.\n",
            "2025-05-06 03:18:44.237090: E external/local_xla/xla/stream_executor/cuda/cuda_fft.cc:477] Unable to register cuFFT factory: Attempting to register factory for plugin cuFFT when one has already been registered\n",
            "WARNING: All log messages before absl::InitializeLog() is called are written to STDERR\n",
            "E0000 00:00:1746501524.258026    2623 cuda_dnn.cc:8310] Unable to register cuDNN factory: Attempting to register factory for plugin cuDNN when one has already been registered\n",
            "E0000 00:00:1746501524.264547    2623 cuda_blas.cc:1418] Unable to register cuBLAS factory: Attempting to register factory for plugin cuBLAS when one has already been registered\n",
            "2025-05-06 03:18:44.285999: I tensorflow/core/platform/cpu_feature_guard.cc:210] This TensorFlow binary is optimized to use available CPU instructions in performance-critical operations.\n",
            "To enable the following instructions: AVX2 AVX512F AVX512_VNNI FMA, in other operations, rebuild TensorFlow with the appropriate compiler flags.\n",
            "INFO - ======== Starting Dataset Pipeline ========\n",
            "INFO - --- Initializing RAG Agent Core ---\n",
            "INFO - Loading embedding model: intfloat/multilingual-e5-large-instruct\n",
            "INFO - Use pytorch device_name: cuda\n",
            "INFO - Load pretrained SentenceTransformer: intfloat/multilingual-e5-large-instruct\n",
            "modules.json: 100% 349/349 [00:00<00:00, 2.45MB/s]\n",
            "config_sentence_transformers.json: 100% 128/128 [00:00<00:00, 939kB/s]\n",
            "README.md: 100% 140k/140k [00:00<00:00, 660kB/s]\n",
            "sentence_xlm-roberta_config.json: 100% 53.0/53.0 [00:00<00:00, 419kB/s]\n",
            "config.json: 100% 690/690 [00:00<00:00, 5.67MB/s]\n",
            "model.safetensors: 100% 1.12G/1.12G [00:02<00:00, 500MB/s]\n",
            "tokenizer_config.json: 100% 1.18k/1.18k [00:00<00:00, 9.66MB/s]\n",
            "sentencepiece.bpe.model: 100% 5.07M/5.07M [00:00<00:00, 296MB/s]\n",
            "tokenizer.json: 100% 17.1M/17.1M [00:00<00:00, 340MB/s]\n",
            "special_tokens_map.json: 100% 964/964 [00:00<00:00, 8.58MB/s]\n",
            "config.json: 100% 271/271 [00:00<00:00, 2.59MB/s]\n",
            "INFO - Embedding model loaded.\n",
            "INFO - Together client initialized successfully.\n",
            "INFO - Loading documents from ./long_files with chunk size 200...\n",
            "INFO - Found 72 markdown files in './long_files'.\n",
            "Loading and Chunking Documents: 100% 72/72 [00:01<00:00, 50.17it/s]\n",
            "INFO - Generated 1002 chunks from 72 files.\n",
            "INFO - Index file indexE5.faiss not found. Will attempt to build.\n",
            "INFO - Building index for 1002 document chunks...\n",
            "INFO - Encoding 1002 document chunks for indexing...\n",
            "Batches: 100% 32/32 [00:14<00:00,  2.26it/s]\n",
            "INFO - Index built with 1002 vectors.\n",
            "INFO - Saving index to indexE5.faiss...\n",
            "INFO - Index saved successfully.\n",
            "INFO - Index built successfully.\n",
            "INFO - Index is ready. Type: <class 'faiss.swigfaiss_avx512.IndexFlatIP'>, Total vectors: 1002\n",
            "INFO - --- RAG Agent Core Initialization Complete ---\n",
            "INFO - --- Starting QA Generation Phase ---\n",
            "INFO - Using 1002 pre-loaded document chunks.\n",
            "INFO - Generating embeddings for 1002 chunks using provided model...\n",
            "INFO - Embeddings generated with shape: (1002, 1024)\n",
            "INFO - Performing K-Means clustering with k=31...\n",
            "INFO - Clustering complete.\n",
            "INFO - Performing t-SNE for visualization...\n",
            "INFO - t-SNE transformation complete.\n",
            "INFO - Calculating samples per cluster...\n",
            "INFO - Final samples planned per cluster: {0: 1, 1: 1, 2: 1, 3: 2, 4: 2, 5: 1, 6: 2, 7: 1, 8: 1, 9: 1, 10: 1, 11: 1, 12: 2, 13: 2, 14: 1, 15: 3, 16: 2, 17: 1, 18: 1, 19: 1, 20: 2, 21: 1, 22: 1, 23: 1, 24: 1, 25: 1, 26: 1, 27: 1, 28: 1, 29: 1, 30: 3}\n",
            "INFO - Total samples to select: 42\n",
            "INFO - Note: Due to the combination of round() (which can round up) and the max(1, ...) rule (which forces small clusters to contribute at least one sample), the final total_samples_planned (39) can sum up to a number slightly different from the initial TOTAL_QA_PAIRS target (42).\n",
            "WARNING - The reason RAG is evaluated on 42 questions is to help answer the ultimate question. \n",
            "In the programming literature, 42 is often used as a random number seed in reference to the ultimate question. \n",
            "The number 42 is famously known as the 'Answer to the Ultimate Question of Life, The Universe, and Everything' in The Hitchhiker's Guide to the Galaxy by Douglas Adams. \n",
            "In the story, 42 is the answer computed by a supercomputer called Deep Thought, but the actual question remains unknown, making the answer cryptic and humorous.\n",
            "INFO - Selecting representative chunks near centroids...\n",
            "INFO - Selected 42 chunks for Q&A generation using diversity sampling.\n",
            "INFO - Generating t-SNE plot with centroids and selected points...\n",
            "INFO - Created plot directory: cluster_plots\n",
            "INFO - Saved highlighted cluster visualization to cluster_plots/kmeans_tsne_clusters_k31_highlighted.png\n",
            "INFO - Generating Q&A pairs using model: meta-llama/Llama-3.3-70B-Instruct-Turbo-Free...\n",
            "Generating Q&A:   0% 0/42 [00:00<?, ?it/s]INFO - Successfully generated Q&A pair on attempt 1\n",
            "Generating Q&A:   2% 1/42 [00:02<01:38,  2.40s/it]INFO - Successfully generated Q&A pair on attempt 1\n",
            "Generating Q&A:   5% 2/42 [00:20<07:34, 11.37s/it]INFO - Successfully generated Q&A pair on attempt 1\n",
            "Generating Q&A:   7% 3/42 [00:26<05:48,  8.94s/it]INFO - Successfully generated Q&A pair on attempt 1\n",
            "Generating Q&A:  10% 4/42 [00:37<06:12,  9.81s/it]INFO - Successfully generated Q&A pair on attempt 1\n",
            "Generating Q&A:  12% 5/42 [00:38<04:07,  6.70s/it]INFO - Successfully generated Q&A pair on attempt 1\n",
            "Generating Q&A:  14% 6/42 [00:57<06:34, 10.95s/it]INFO - Successfully generated Q&A pair on attempt 1\n",
            "Generating Q&A:  17% 7/42 [00:59<04:40,  8.00s/it]INFO - Successfully generated Q&A pair on attempt 1\n",
            "Generating Q&A:  19% 8/42 [01:08<04:40,  8.26s/it]INFO - Successfully generated Q&A pair on attempt 1\n",
            "Generating Q&A:  21% 9/42 [01:16<04:35,  8.36s/it]INFO - Successfully generated Q&A pair on attempt 1\n",
            "Generating Q&A:  24% 10/42 [01:34<05:57, 11.16s/it]INFO - Successfully generated Q&A pair on attempt 1\n",
            "Generating Q&A:  26% 11/42 [01:39<04:51,  9.41s/it]INFO - Successfully generated Q&A pair on attempt 1\n",
            "Generating Q&A:  29% 12/42 [01:49<04:48,  9.63s/it]INFO - Successfully generated Q&A pair on attempt 1\n",
            "Generating Q&A:  31% 13/42 [01:56<04:08,  8.57s/it]INFO - Successfully generated Q&A pair on attempt 1\n",
            "Generating Q&A:  33% 14/42 [02:06<04:16,  9.15s/it]INFO - Successfully generated Q&A pair on attempt 1\n",
            "Generating Q&A:  36% 15/42 [02:11<03:30,  7.81s/it]INFO - Successfully generated Q&A pair on attempt 1\n",
            "Generating Q&A:  38% 16/42 [02:19<03:22,  7.79s/it]INFO - Successfully generated Q&A pair on attempt 1\n",
            "Generating Q&A:  40% 17/42 [02:24<02:56,  7.08s/it]INFO - Successfully generated Q&A pair on attempt 1\n",
            "Generating Q&A:  43% 18/42 [02:34<03:10,  7.94s/it]INFO - Successfully generated Q&A pair on attempt 1\n",
            "Generating Q&A:  45% 19/42 [02:40<02:51,  7.47s/it]INFO - Successfully generated Q&A pair on attempt 1\n",
            "Generating Q&A:  48% 20/42 [02:46<02:31,  6.90s/it]INFO - Successfully generated Q&A pair on attempt 1\n",
            "Generating Q&A:  50% 21/42 [03:08<04:02, 11.54s/it]INFO - Successfully generated Q&A pair on attempt 1\n",
            "Generating Q&A:  52% 22/42 [03:14<03:18,  9.94s/it]INFO - Successfully generated Q&A pair on attempt 1\n",
            "Generating Q&A:  55% 23/42 [03:23<02:59,  9.46s/it]INFO - Successfully generated Q&A pair on attempt 1\n",
            "Generating Q&A:  57% 24/42 [03:30<02:38,  8.82s/it]INFO - Successfully generated Q&A pair on attempt 1\n",
            "Generating Q&A:  60% 25/42 [03:33<02:00,  7.09s/it]INFO - Successfully generated Q&A pair on attempt 1\n",
            "Generating Q&A:  62% 26/42 [03:38<01:40,  6.28s/it]INFO - Successfully generated Q&A pair on attempt 1\n",
            "Generating Q&A:  64% 27/42 [03:47<01:46,  7.10s/it]INFO - Successfully generated Q&A pair on attempt 1\n",
            "Generating Q&A:  67% 28/42 [03:55<01:44,  7.44s/it]INFO - Successfully generated Q&A pair on attempt 1\n",
            "Generating Q&A:  69% 29/42 [04:02<01:36,  7.40s/it]INFO - Successfully generated Q&A pair on attempt 1\n",
            "Generating Q&A:  71% 30/42 [04:04<01:09,  5.79s/it]INFO - Successfully generated Q&A pair on attempt 1\n",
            "Generating Q&A:  74% 31/42 [04:14<01:18,  7.12s/it]INFO - Successfully generated Q&A pair on attempt 1\n",
            "Generating Q&A:  76% 32/42 [04:20<01:05,  6.60s/it]INFO - Successfully generated Q&A pair on attempt 1\n",
            "Generating Q&A:  79% 33/42 [04:38<01:30, 10.09s/it]INFO - Successfully generated Q&A pair on attempt 1\n",
            "Generating Q&A:  81% 34/42 [04:42<01:07,  8.38s/it]INFO - Successfully generated Q&A pair on attempt 1\n",
            "Generating Q&A:  83% 35/42 [04:52<01:01,  8.72s/it]INFO - Successfully generated Q&A pair on attempt 1\n",
            "Generating Q&A:  86% 36/42 [05:00<00:50,  8.49s/it]INFO - Successfully generated Q&A pair on attempt 1\n",
            "Generating Q&A:  88% 37/42 [05:08<00:41,  8.30s/it]INFO - Successfully generated Q&A pair on attempt 1\n",
            "Generating Q&A:  90% 38/42 [05:14<00:31,  7.81s/it]INFO - Successfully generated Q&A pair on attempt 1\n",
            "Generating Q&A:  93% 39/42 [05:23<00:23,  7.95s/it]INFO - Successfully generated Q&A pair on attempt 1\n",
            "Generating Q&A:  95% 40/42 [05:31<00:16,  8.05s/it]INFO - Successfully generated Q&A pair on attempt 1\n",
            "Generating Q&A:  98% 41/42 [05:37<00:07,  7.42s/it]INFO - Successfully generated Q&A pair on attempt 1\n",
            "Generating Q&A: 100% 42/42 [05:47<00:00,  8.27s/it]\n",
            "INFO - Successfully generated 42 Q&A pairs.\n",
            "INFO - Saving 42 Q&A pairs to intermediate file: generated_qa_dataset.xlsx...\n",
            "INFO - Intermediate dataset saved successfully.\n",
            "INFO - --- Starting QA Augmentation Phase ---\n",
            "INFO - Loading intermediate Q&A data from generated_qa_dataset.xlsx...\n",
            "INFO - Loaded 42 Q&A pairs for augmentation.\n",
            "INFO - Using 1002 pre-loaded document chunks and their embeddings.\n",
            "INFO - Finding top 5 semantically similar chunks for each Source_Chunk...\n",
            "Augmenting Q&A Pairs: 100% 42/42 [00:00<00:00, 2448.34it/s]\n",
            "INFO - Saving final augmented Q&A data (42 rows) to generated_qa_dataset_ranked.xlsx...\n",
            "INFO - Final augmented dataset saved successfully to generated_qa_dataset_ranked.xlsx.\n",
            "INFO - ======== Dataset Pipeline Finished Successfully ========\n"
          ]
        }
      ]
    },
    {
      "cell_type": "markdown",
      "source": [
        "# 2) Ask me anything"
      ],
      "metadata": {
        "id": "NhyVsIchiAdu"
      }
    },
    {
      "cell_type": "code",
      "source": [
        "!python 2_interactive_agent.py"
      ],
      "metadata": {
        "id": "0lO5XLtsa4Z9",
        "colab": {
          "base_uri": "https://localhost:8080/"
        },
        "outputId": "3d5b730c-91d7-4ef2-d87d-c7910d4aa60e"
      },
      "execution_count": 7,
      "outputs": [
        {
          "output_type": "stream",
          "name": "stdout",
          "text": [
            "2025-05-06 03:30:06.002062: I tensorflow/core/util/port.cc:153] oneDNN custom operations are on. You may see slightly different numerical results due to floating-point round-off errors from different computation orders. To turn them off, set the environment variable `TF_ENABLE_ONEDNN_OPTS=0`.\n",
            "2025-05-06 03:30:06.020411: E external/local_xla/xla/stream_executor/cuda/cuda_fft.cc:477] Unable to register cuFFT factory: Attempting to register factory for plugin cuFFT when one has already been registered\n",
            "WARNING: All log messages before absl::InitializeLog() is called are written to STDERR\n",
            "E0000 00:00:1746502206.042152    5701 cuda_dnn.cc:8310] Unable to register cuDNN factory: Attempting to register factory for plugin cuDNN when one has already been registered\n",
            "E0000 00:00:1746502206.048701    5701 cuda_blas.cc:1418] Unable to register cuBLAS factory: Attempting to register factory for plugin cuBLAS when one has already been registered\n",
            "2025-05-06 03:30:06.070703: I tensorflow/core/platform/cpu_feature_guard.cc:210] This TensorFlow binary is optimized to use available CPU instructions in performance-critical operations.\n",
            "To enable the following instructions: AVX2 AVX512F AVX512_VNNI FMA, in other operations, rebuild TensorFlow with the appropriate compiler flags.\n",
            "INFO - --- Initializing RAG Agent Core ---\n",
            "INFO - Loading embedding model: intfloat/multilingual-e5-large-instruct\n",
            "INFO - Use pytorch device_name: cuda\n",
            "INFO - Load pretrained SentenceTransformer: intfloat/multilingual-e5-large-instruct\n",
            "INFO - Embedding model loaded.\n",
            "INFO - Together client initialized successfully.\n",
            "INFO - Loading documents from ./long_files with chunk size 200...\n",
            "INFO - Found 72 markdown files in './long_files'.\n",
            "Loading and Chunking Documents: 100% 72/72 [00:00<00:00, 102.91it/s]\n",
            "INFO - Generated 1002 chunks from 72 files.\n",
            "INFO - Attempting to load existing index from indexE5.faiss...\n",
            "INFO - Index is ready. Type: <class 'faiss.swigfaiss_avx512.IndexFlatIP'>, Total vectors: 1002\n",
            "INFO - --- RAG Agent Core Initialization Complete ---\n",
            "INFO - Using model for interactive generation: meta-llama/Llama-3.3-70B-Instruct-Turbo-Free\n",
            "\\nWelcome to the Interactive RAG Agent!\n",
            "\n",
            "I am DeepThought, a supercomputer designed to serve as a RAG system for answering questions about the University of Cyprus. I have been tested on 42 questions and answered them all correctly. I am ready for more!\n",
            "\n",
            "To clarify, the number 42 is my famous answer, known as the \"Answer to the Ultimate Question of Life, The Universe, and Everything\" from The Hitchhiker's Guide to the Galaxy by Douglas Adams. In my biography, as Douglas mentions, the actual question remains unknown, making the answer cryptic and humorous. So, keep asking questions until you find the ULTIMATE QUESTION!\n",
            "(type 'exit' to quit)\n",
            "\n",
            "> What is the amount of the annual stipend for full scholarships for PhD students at the University of Cyprus?\n",
            "INFO - Received query: 'What is the amount of the annual stipend for full scholarships for PhD students at the University of Cyprus?'\n",
            "Retrieving relevant documents...\n",
            "\n",
            "Top 5 relevant document snippets:\n",
            "1. [Score: 0.8846] 17**How much are the fees for attending a Master's programme?** The total tuition fees for a Master's programme are **€5.125** with some exceptions as follows: - MSc in Intelligent Critical Infrastruc...\n",
            "2. [Score: 0.8837] SCHOLARSHIPS FOR STUDENTS OF \"NATURAL GAS ENGINEERING IN ENERGY TRANSITION\" PROGRAMME The fees and tuitions for the programme €8.000, for Cypriot citizens are covered by sponsorship from the Ministry ...\n",
            "3. [Score: 0.8815] # Scholarships #### SCHOLARSHIPS OF UNIVERSITY OF CYPRUS / GRADUATE SCHOOL CYPRUS UNIVERSITY SCHOLARSHIPS \"EVAGORAS AND PRAXANDROS\" FOR POSTGRADUATE STUDENTS (DOCTOR AND MASTER LEVEL) The University o...\n",
            "4. [Score: 0.8801] SCHOLARSHIP IN MEMORY OF MICHALIS (MIKE) POLYDOROU FOR MASTER/PHD LEVEL STUDENTS OF THE DEPARTMENT OF COMPUTER SCIENCE **Scholarships in memory of [**MICHALIS(MIKE) POLYDOROU\\***](https://www.ucy.ac.c...\n",
            "5. [Score: 0.8799] The scholarships will be funded from the University's Central own revenues. #### SCHOLARSHIPS OF ACADEMIC DEPARTMENTS / ENTITIES / OTHERS DEPARTMENTS' SCHOLARSHIPS FOR MASTER'S AND PhD STUDENTS The ac...\n",
            "\n",
            "Generating answer...\n",
            "INFO - Generating answer with model 'meta-llama/Llama-3.3-70B-Instruct-Turbo-Free' via Together AI...\n",
            "INFO - Successfully generated answer.\n",
            "\n",
            "--------------- Answer ---------------\n",
            "The annual stipend for full scholarships for PhD students at the University of Cyprus is €8,000.\n",
            "--------------------------------------\n",
            "\n",
            "hello, i am deep thought how can i help? (type 'exit' to quit)\n",
            "> exit\n",
            "Exiting.\n"
          ]
        }
      ]
    },
    {
      "cell_type": "markdown",
      "source": [
        "# 3) Evaluate retrieval"
      ],
      "metadata": {
        "id": "cp60BRWoiE4T"
      }
    },
    {
      "cell_type": "markdown",
      "source": [
        "**Evaluating Retrieval**\n",
        "\n",
        "When we run the `1_dataset_pipeline.py` script, it generates the file `generated_qa_dataset_ranked`, which is then used by `3_evaluate_retrieval.py` to evaluate retrieval performance. However, some of the generated questions are non-specific, leading to poor retrieval. To address this, I manually removed the non-specific questions in a previous run and saved the cleaned output as `generated_qa_dataset_ranked_goodQuestions`. If you run `3_evaluate_retrieval.py` on this file (after renaming it back to `generated_qa_dataset_ranked`), you’ll see improved metrics.\n",
        "\n",
        "More specifically, after removing the eight non-specific questions and rerunning retrieval on the remaining 34 high-quality questions (k = 5), the metrics compare as follows:\n",
        "\n",
        "* **Mean Hit Rate @5:** before 0.6905 → now 0.8485\n",
        "* **Mean Reciprocal Rank @5:** before 0.5337 → now 0.6490\n",
        "* **Mean Precision @5:** before 0.3143 → now 0.3879\n",
        "* **Mean Kendall’s Tau-b @5:** before 0.2667 → now 0.3091\n",
        "\n",
        "These improvements confirm that evaluating only well-posed, specific questions yields more accurate and meaningful retrieval metrics.\n"
      ],
      "metadata": {
        "id": "leqsjbTBjUte"
      }
    },
    {
      "cell_type": "code",
      "source": [
        "!python 3_evaluate_retrieval.py"
      ],
      "metadata": {
        "id": "X3Xl3ajDBIYN",
        "colab": {
          "base_uri": "https://localhost:8080/"
        },
        "outputId": "17cd83a6-4f1a-4139-efb0-69e8f3f2cc35"
      },
      "execution_count": 10,
      "outputs": [
        {
          "output_type": "stream",
          "name": "stdout",
          "text": [
            "2025-05-06 03:40:19.375610: I tensorflow/core/util/port.cc:153] oneDNN custom operations are on. You may see slightly different numerical results due to floating-point round-off errors from different computation orders. To turn them off, set the environment variable `TF_ENABLE_ONEDNN_OPTS=0`.\n",
            "2025-05-06 03:40:19.393696: E external/local_xla/xla/stream_executor/cuda/cuda_fft.cc:477] Unable to register cuFFT factory: Attempting to register factory for plugin cuFFT when one has already been registered\n",
            "WARNING: All log messages before absl::InitializeLog() is called are written to STDERR\n",
            "E0000 00:00:1746502819.415211    8438 cuda_dnn.cc:8310] Unable to register cuDNN factory: Attempting to register factory for plugin cuDNN when one has already been registered\n",
            "E0000 00:00:1746502819.421936    8438 cuda_blas.cc:1418] Unable to register cuBLAS factory: Attempting to register factory for plugin cuBLAS when one has already been registered\n",
            "2025-05-06 03:40:19.444021: I tensorflow/core/platform/cpu_feature_guard.cc:210] This TensorFlow binary is optimized to use available CPU instructions in performance-critical operations.\n",
            "To enable the following instructions: AVX2 AVX512F AVX512_VNNI FMA, in other operations, rebuild TensorFlow with the appropriate compiler flags.\n",
            "INFO - --- Starting Retrieval Evaluation ---\n",
            "INFO - Loading Q&A dataset from: generated_qa_dataset_ranked.xlsx\n",
            "INFO - Loaded 42 evaluation Q&A pairs.\n",
            "INFO - Using ground truth columns: ['Relevant_Chunk_Rank_1', 'Relevant_Chunk_Rank_2', 'Relevant_Chunk_Rank_3', 'Relevant_Chunk_Rank_4', 'Relevant_Chunk_Rank_5']\n",
            "INFO - Initializing agent components (model, docs, index) for evaluation...\n",
            "INFO - --- Initializing RAG Agent Core ---\n",
            "INFO - Loading embedding model: intfloat/multilingual-e5-large-instruct\n",
            "INFO - Use pytorch device_name: cuda\n",
            "INFO - Load pretrained SentenceTransformer: intfloat/multilingual-e5-large-instruct\n",
            "INFO - Embedding model loaded.\n",
            "INFO - Together client initialized successfully.\n",
            "INFO - Loading documents from ./long_files with chunk size 200...\n",
            "INFO - Found 72 markdown files in './long_files'.\n",
            "Loading and Chunking Documents: 100% 72/72 [00:00<00:00, 104.16it/s]\n",
            "INFO - Generated 1002 chunks from 72 files.\n",
            "INFO - Attempting to load existing index from indexE5.faiss...\n",
            "INFO - Index is ready. Type: <class 'faiss.swigfaiss_avx512.IndexFlatIP'>, Total vectors: 1002\n",
            "INFO - --- RAG Agent Core Initialization Complete ---\n",
            "INFO - Starting evaluation for K values: [1, 3, 5]\n",
            "Evaluating Queries: 100% 42/42 [00:01<00:00, 37.70it/s]\n",
            "INFO - \n",
            "--- Overall Retrieval Evaluation Metrics ---\n",
            "Evaluated on 42 questions.\n",
            "\n",
            "--- Metrics for K=1 ---\n",
            "Mean Hit Rate @1: 0.5000\n",
            "MRR @1: 0.5000\n",
            "Mean Precision @1: 0.6190\n",
            "Mean Kendall Tau-b @1: 0.0000\n",
            "\n",
            "--- Metrics for K=3 ---\n",
            "Mean Hit Rate @3: 0.6429\n",
            "MRR @3: 0.5675\n",
            "Mean Precision @3: 0.5000\n",
            "Mean Kendall Tau-b @3: 0.3571\n",
            "\n",
            "--- Metrics for K=5 ---\n",
            "Mean Hit Rate @5: 0.7381\n",
            "MRR @5: 0.5877\n",
            "Mean Precision @5: 0.3810\n",
            "Mean Kendall Tau-b @5: 0.2460\n",
            "INFO - Aggregated retrieval metrics saved to retrieval_evaluation_summary.json\n",
            "INFO - Evaluation finished in 9.56 seconds.\n"
          ]
        }
      ]
    },
    {
      "cell_type": "markdown",
      "source": [
        "# 4) Evaluate answering the 42 questions"
      ],
      "metadata": {
        "id": "iOuqnCKQnYU0"
      }
    },
    {
      "cell_type": "code",
      "source": [
        "!python 4_evaluate_generation.py"
      ],
      "metadata": {
        "id": "RJ4aL1hebC6q",
        "colab": {
          "base_uri": "https://localhost:8080/"
        },
        "outputId": "18d2d988-9c74-4d59-dd33-128af290dd56"
      },
      "execution_count": 11,
      "outputs": [
        {
          "output_type": "stream",
          "name": "stdout",
          "text": [
            "2025-05-06 03:41:29.927089: I tensorflow/core/util/port.cc:153] oneDNN custom operations are on. You may see slightly different numerical results due to floating-point round-off errors from different computation orders. To turn them off, set the environment variable `TF_ENABLE_ONEDNN_OPTS=0`.\n",
            "2025-05-06 03:41:29.945314: E external/local_xla/xla/stream_executor/cuda/cuda_fft.cc:477] Unable to register cuFFT factory: Attempting to register factory for plugin cuFFT when one has already been registered\n",
            "WARNING: All log messages before absl::InitializeLog() is called are written to STDERR\n",
            "E0000 00:00:1746502889.967195    8786 cuda_dnn.cc:8310] Unable to register cuDNN factory: Attempting to register factory for plugin cuDNN when one has already been registered\n",
            "E0000 00:00:1746502889.973835    8786 cuda_blas.cc:1418] Unable to register cuBLAS factory: Attempting to register factory for plugin cuBLAS when one has already been registered\n",
            "2025-05-06 03:41:29.995913: I tensorflow/core/platform/cpu_feature_guard.cc:210] This TensorFlow binary is optimized to use available CPU instructions in performance-critical operations.\n",
            "To enable the following instructions: AVX2 AVX512F AVX512_VNNI FMA, in other operations, rebuild TensorFlow with the appropriate compiler flags.\n",
            "INFO - --- Starting Generation Evaluation ---\n",
            "INFO - --- Initializing RAG Agent Core ---\n",
            "INFO - Loading embedding model: intfloat/multilingual-e5-large-instruct\n",
            "INFO - Embedding model loaded.\n",
            "INFO - Together client initialized successfully.\n",
            "INFO - Loading documents from ./long_files with chunk size 200...\n",
            "INFO - Found 72 markdown files in './long_files'.\n",
            "Loading and Chunking Documents: 100% 72/72 [00:00<00:00, 102.80it/s]\n",
            "INFO - Generated 1002 chunks from 72 files.\n",
            "INFO - Attempting to load existing index from indexE5.faiss...\n",
            "INFO - Index is ready. Type: <class 'faiss.swigfaiss_avx512.IndexFlatIP'>, Total vectors: 1002\n",
            "INFO - --- RAG Agent Core Initialization Complete ---\n",
            "INFO - Loading evaluation dataset from: generated_qa_dataset_ranked.xlsx\n",
            "INFO - Loaded 42 evaluation Q&A pairs.\n",
            "INFO - Running retrieval and generation for 42 questions...\n",
            "Evaluating Generation:   0% 0/42 [00:00<?, ?it/s]INFO - Generating answer with model 'meta-llama/Llama-3.3-70B-Instruct-Turbo-Free' via Together AI...\n",
            "INFO - Successfully generated answer.\n",
            "Evaluating Generation:   2% 1/42 [00:01<01:16,  1.86s/it]INFO - Generating answer with model 'meta-llama/Llama-3.3-70B-Instruct-Turbo-Free' via Together AI...\n",
            "INFO - Successfully generated answer.\n",
            "Evaluating Generation:   5% 2/42 [00:03<01:12,  1.82s/it]INFO - Generating answer with model 'meta-llama/Llama-3.3-70B-Instruct-Turbo-Free' via Together AI...\n",
            "INFO - Successfully generated answer.\n",
            "Evaluating Generation:   7% 3/42 [00:20<05:39,  8.70s/it]INFO - Generating answer with model 'meta-llama/Llama-3.3-70B-Instruct-Turbo-Free' via Together AI...\n",
            "INFO - Successfully generated answer.\n",
            "Evaluating Generation:  10% 4/42 [00:24<04:12,  6.64s/it]INFO - Generating answer with model 'meta-llama/Llama-3.3-70B-Instruct-Turbo-Free' via Together AI...\n",
            "INFO - Successfully generated answer.\n",
            "Evaluating Generation:  12% 5/42 [00:32<04:28,  7.25s/it]INFO - Generating answer with model 'meta-llama/Llama-3.3-70B-Instruct-Turbo-Free' via Together AI...\n",
            "INFO - Successfully generated answer.\n",
            "Evaluating Generation:  14% 6/42 [00:33<03:11,  5.31s/it]INFO - Generating answer with model 'meta-llama/Llama-3.3-70B-Instruct-Turbo-Free' via Together AI...\n",
            "INFO - Successfully generated answer.\n",
            "Evaluating Generation:  17% 7/42 [00:47<04:45,  8.17s/it]INFO - Generating answer with model 'meta-llama/Llama-3.3-70B-Instruct-Turbo-Free' via Together AI...\n",
            "INFO - Successfully generated answer.\n",
            "Evaluating Generation:  19% 8/42 [00:50<03:41,  6.52s/it]INFO - Generating answer with model 'meta-llama/Llama-3.3-70B-Instruct-Turbo-Free' via Together AI...\n",
            "INFO - Successfully generated answer.\n",
            "Evaluating Generation:  21% 9/42 [00:55<03:20,  6.06s/it]INFO - Generating answer with model 'meta-llama/Llama-3.3-70B-Instruct-Turbo-Free' via Together AI...\n",
            "INFO - Successfully generated answer.\n",
            "Evaluating Generation:  24% 10/42 [01:05<03:52,  7.27s/it]INFO - Generating answer with model 'meta-llama/Llama-3.3-70B-Instruct-Turbo-Free' via Together AI...\n",
            "INFO - Successfully generated answer.\n",
            "Evaluating Generation:  26% 11/42 [01:09<03:12,  6.22s/it]INFO - Generating answer with model 'meta-llama/Llama-3.3-70B-Instruct-Turbo-Free' via Together AI...\n",
            "INFO - Successfully generated answer.\n",
            "Evaluating Generation:  29% 12/42 [01:19<03:38,  7.28s/it]INFO - Generating answer with model 'meta-llama/Llama-3.3-70B-Instruct-Turbo-Free' via Together AI...\n",
            "INFO - Successfully generated answer.\n",
            "Evaluating Generation:  31% 13/42 [01:21<02:48,  5.80s/it]INFO - Generating answer with model 'meta-llama/Llama-3.3-70B-Instruct-Turbo-Free' via Together AI...\n",
            "INFO - Successfully generated answer.\n",
            "Evaluating Generation:  33% 14/42 [01:31<03:16,  7.01s/it]INFO - Generating answer with model 'meta-llama/Llama-3.3-70B-Instruct-Turbo-Free' via Together AI...\n",
            "INFO - Successfully generated answer.\n",
            "Evaluating Generation:  36% 15/42 [01:32<02:21,  5.24s/it]INFO - Generating answer with model 'meta-llama/Llama-3.3-70B-Instruct-Turbo-Free' via Together AI...\n",
            "INFO - Successfully generated answer.\n",
            "Evaluating Generation:  38% 16/42 [01:43<03:02,  7.01s/it]INFO - Generating answer with model 'meta-llama/Llama-3.3-70B-Instruct-Turbo-Free' via Together AI...\n",
            "INFO - Successfully generated answer.\n",
            "Evaluating Generation:  40% 17/42 [01:55<03:26,  8.25s/it]INFO - Generating answer with model 'meta-llama/Llama-3.3-70B-Instruct-Turbo-Free' via Together AI...\n",
            "INFO - Successfully generated answer.\n",
            "Evaluating Generation:  43% 18/42 [01:58<02:40,  6.68s/it]INFO - Generating answer with model 'meta-llama/Llama-3.3-70B-Instruct-Turbo-Free' via Together AI...\n",
            "INFO - Successfully generated answer.\n",
            "Evaluating Generation:  45% 19/42 [02:08<02:57,  7.73s/it]INFO - Generating answer with model 'meta-llama/Llama-3.3-70B-Instruct-Turbo-Free' via Together AI...\n",
            "INFO - Successfully generated answer.\n",
            "Evaluating Generation:  48% 20/42 [02:18<03:07,  8.55s/it]INFO - Generating answer with model 'meta-llama/Llama-3.3-70B-Instruct-Turbo-Free' via Together AI...\n",
            "INFO - Successfully generated answer.\n",
            "Evaluating Generation:  50% 21/42 [02:28<03:05,  8.83s/it]INFO - Generating answer with model 'meta-llama/Llama-3.3-70B-Instruct-Turbo-Free' via Together AI...\n",
            "INFO - Successfully generated answer.\n",
            "Evaluating Generation:  52% 22/42 [02:33<02:35,  7.80s/it]INFO - Generating answer with model 'meta-llama/Llama-3.3-70B-Instruct-Turbo-Free' via Together AI...\n",
            "INFO - Successfully generated answer.\n",
            "Evaluating Generation:  55% 23/42 [02:44<02:44,  8.67s/it]INFO - Generating answer with model 'meta-llama/Llama-3.3-70B-Instruct-Turbo-Free' via Together AI...\n",
            "INFO - Successfully generated answer.\n",
            "Evaluating Generation:  57% 24/42 [02:46<02:03,  6.85s/it]INFO - Generating answer with model 'meta-llama/Llama-3.3-70B-Instruct-Turbo-Free' via Together AI...\n",
            "INFO - Successfully generated answer.\n",
            "Evaluating Generation:  60% 25/42 [03:03<02:47,  9.85s/it]INFO - Generating answer with model 'meta-llama/Llama-3.3-70B-Instruct-Turbo-Free' via Together AI...\n",
            "INFO - Successfully generated answer.\n",
            "Evaluating Generation:  62% 26/42 [03:06<02:02,  7.64s/it]INFO - Generating answer with model 'meta-llama/Llama-3.3-70B-Instruct-Turbo-Free' via Together AI...\n",
            "INFO - Successfully generated answer.\n",
            "Evaluating Generation:  64% 27/42 [03:14<01:57,  7.84s/it]INFO - Generating answer with model 'meta-llama/Llama-3.3-70B-Instruct-Turbo-Free' via Together AI...\n",
            "INFO - Successfully generated answer.\n",
            "Evaluating Generation:  67% 28/42 [03:31<02:27, 10.56s/it]INFO - Generating answer with model 'meta-llama/Llama-3.3-70B-Instruct-Turbo-Free' via Together AI...\n",
            "INFO - Successfully generated answer.\n",
            "Evaluating Generation:  69% 29/42 [03:33<01:44,  8.04s/it]INFO - Generating answer with model 'meta-llama/Llama-3.3-70B-Instruct-Turbo-Free' via Together AI...\n",
            "INFO - Successfully generated answer.\n",
            "Evaluating Generation:  71% 30/42 [03:42<01:38,  8.21s/it]INFO - Generating answer with model 'meta-llama/Llama-3.3-70B-Instruct-Turbo-Free' via Together AI...\n",
            "INFO - Successfully generated answer.\n",
            "Evaluating Generation:  74% 31/42 [03:48<01:24,  7.72s/it]INFO - Generating answer with model 'meta-llama/Llama-3.3-70B-Instruct-Turbo-Free' via Together AI...\n",
            "INFO - Successfully generated answer.\n",
            "Evaluating Generation:  76% 32/42 [03:56<01:18,  7.86s/it]INFO - Generating answer with model 'meta-llama/Llama-3.3-70B-Instruct-Turbo-Free' via Together AI...\n",
            "INFO - Successfully generated answer.\n",
            "Evaluating Generation:  79% 33/42 [04:02<01:03,  7.09s/it]INFO - Generating answer with model 'meta-llama/Llama-3.3-70B-Instruct-Turbo-Free' via Together AI...\n",
            "INFO - Successfully generated answer.\n",
            "Evaluating Generation:  81% 34/42 [04:07<00:51,  6.44s/it]INFO - Generating answer with model 'meta-llama/Llama-3.3-70B-Instruct-Turbo-Free' via Together AI...\n",
            "INFO - Successfully generated answer.\n",
            "Evaluating Generation:  83% 35/42 [04:15<00:48,  6.97s/it]INFO - Generating answer with model 'meta-llama/Llama-3.3-70B-Instruct-Turbo-Free' via Together AI...\n",
            "INFO - Successfully generated answer.\n",
            "Evaluating Generation:  86% 36/42 [04:16<00:31,  5.18s/it]INFO - Generating answer with model 'meta-llama/Llama-3.3-70B-Instruct-Turbo-Free' via Together AI...\n",
            "INFO - Successfully generated answer.\n",
            "Evaluating Generation:  88% 37/42 [04:32<00:41,  8.34s/it]INFO - Generating answer with model 'meta-llama/Llama-3.3-70B-Instruct-Turbo-Free' via Together AI...\n",
            "INFO - Successfully generated answer.\n",
            "Evaluating Generation:  90% 38/42 [04:33<00:24,  6.12s/it]INFO - Generating answer with model 'meta-llama/Llama-3.3-70B-Instruct-Turbo-Free' via Together AI...\n",
            "INFO - Successfully generated answer.\n",
            "Evaluating Generation:  93% 39/42 [04:50<00:28,  9.54s/it]INFO - Generating answer with model 'meta-llama/Llama-3.3-70B-Instruct-Turbo-Free' via Together AI...\n",
            "INFO - Successfully generated answer.\n",
            "Evaluating Generation:  95% 40/42 [04:52<00:14,  7.36s/it]INFO - Generating answer with model 'meta-llama/Llama-3.3-70B-Instruct-Turbo-Free' via Together AI...\n",
            "INFO - Successfully generated answer.\n",
            "Evaluating Generation:  98% 41/42 [05:08<00:09,  9.93s/it]INFO - Generating answer with model 'meta-llama/Llama-3.3-70B-Instruct-Turbo-Free' via Together AI...\n",
            "INFO - Successfully generated answer.\n",
            "Evaluating Generation: 100% 42/42 [05:25<00:00,  7.74s/it]\n",
            "INFO - Generated answers for 42 questions.\n",
            "INFO - Created DataFrame with generated results.\n",
            "INFO - Calculating Semantic Similarity between generated and ground truth answers...\n",
            "Batches: 100% 2/2 [00:00<00:00,  2.86it/s]\n",
            "Batches: 100% 2/2 [00:00<00:00,  4.49it/s]\n",
            "INFO - Mean Semantic Similarity: 0.9429\n",
            "INFO - --- Overall Generation Evaluation Metrics ---\n",
            "Evaluated on 42 questions.\n",
            "Mean Semantic Similarity: 0.9429\n",
            "INFO - Evaluation finished in 334.63 seconds.\n",
            "INFO - Detailed evaluation results saved to generation_evaluation_results.csv\n"
          ]
        }
      ]
    },
    {
      "cell_type": "markdown",
      "source": [
        "# 5) Vizuazize evaluation"
      ],
      "metadata": {
        "id": "bQIG2xftqLf4"
      }
    },
    {
      "cell_type": "code",
      "source": [
        "!python 5_visualize_evaluation.py"
      ],
      "metadata": {
        "colab": {
          "base_uri": "https://localhost:8080/"
        },
        "id": "2H-VIik-qOqp",
        "outputId": "28b23b5c-29f4-487a-9109-ed5e6dbecf40"
      },
      "execution_count": 12,
      "outputs": [
        {
          "output_type": "stream",
          "name": "stdout",
          "text": [
            "INFO - Created output directory: evaluation_plots\n",
            "INFO - --- Starting Evaluation Visualization ---\n",
            "INFO - Loading generation results from: generation_evaluation_results.csv\n",
            "INFO - Loaded 42 generation results.\n",
            "INFO - Saved semantic similarity plot to evaluation_plots/semantic_similarity_distribution.png\n",
            "INFO - Loading retrieval summary from: retrieval_evaluation_summary.json\n",
            "INFO - Loaded retrieval summary.\n",
            "INFO - Saved retrieval metrics plot to evaluation_plots/retrieval_metrics_comparison.png\n",
            "INFO - --- Evaluation Visualization Finished ---\n"
          ]
        }
      ]
    },
    {
      "cell_type": "markdown",
      "source": [
        "# download everything"
      ],
      "metadata": {
        "id": "qCnG1XL-2mSs"
      }
    },
    {
      "cell_type": "code",
      "source": [
        "!zip -r /content/chrysisRagDeepThought_outputs.zip /content -x /content/sample_data/\\* /content/.config/\\* /content/__pycache__/\\* /content/__MACOSX/\\*"
      ],
      "metadata": {
        "colab": {
          "base_uri": "https://localhost:8080/"
        },
        "id": "Or0rchdS6pC7",
        "outputId": "9edd59a7-0726-4ea7-8b8b-e3aeca7c19a6"
      },
      "execution_count": 13,
      "outputs": [
        {
          "output_type": "stream",
          "name": "stdout",
          "text": [
            "  adding: content/ (stored 0%)\n",
            "  adding: content/generated_qa_dataset_ranked.xlsx (deflated 1%)\n",
            "  adding: content/indexE5.faiss (deflated 7%)\n",
            "  adding: content/5_visualize_evaluation.py (deflated 64%)\n",
            "  adding: content/retrieval_evaluation_summary.json (deflated 67%)\n",
            "  adding: content/generated_qa_dataset_ranked_goodQuestions.xlsx (deflated 6%)\n",
            "  adding: content/rag_core.py (deflated 68%)\n",
            "  adding: content/generation_evaluation_results.csv (deflated 73%)\n",
            "  adding: content/cluster_plots/ (stored 0%)\n",
            "  adding: content/cluster_plots/kmeans_tsne_clusters_k31_highlighted.png (deflated 3%)\n",
            "  adding: content/.ipynb_checkpoints/ (stored 0%)\n",
            "  adding: content/long_files/ (stored 0%)\n",
            "  adding: content/long_files/www.ucy.ac.cy_mba.md (deflated 70%)\n",
            "  adding: content/long_files/www.ucy.ac.cy_edu_programmes-of-study_postgraduate_programmes_creative-learning.md (deflated 53%)\n",
            "  adding: content/long_files/www.ucy.ac.cy_mhc.md (deflated 62%)\n",
            "  adding: content/long_files/www.ucy.ac.cy_graduateschool_ects-system.md (deflated 47%)\n",
            "  adding: content/long_files/www.ucy.ac.cy_graduateschool_registration-in-courses-for-the-spring-semester-2024-2025.md (deflated 73%)\n",
            "  adding: content/long_files/dsi.education.md (deflated 55%)\n",
            "  adding: content/long_files/www.ucy.ac.cy_aasw_student-welfare_housing-office_applying-for-accommodation.md (deflated 75%)\n",
            "  adding: content/long_files/www.ucy.ac.cy_mhc_meeting-arrangements.md (deflated 57%)\n",
            "  adding: content/long_files/www.ucy.ac.cy_graduation.md (deflated 58%)\n",
            "  adding: content/long_files/www.ucy.ac.cy_cee_programmes-of-study_postgraduate-programmes_msc-in-civil-engineering.md (deflated 64%)\n",
            "  adding: content/long_files/www.ucy.ac.cy_publications_studying-at-ucy.md (deflated 76%)\n",
            "  adding: content/long_files/www.ucy.ac.cy_expressservices_university_card.md (deflated 69%)\n",
            "  adding: content/long_files/www.ucy.ac.cy_dhla.md (deflated 68%)\n",
            "  adding: content/long_files/www.ucy.ac.cy_graduateschool_postgraduate-programme-places-for-the-fall-semester-of-the-academic-year-2025-2026-entry-september-202.md (deflated 74%)\n",
            "  adding: content/long_files/www.ucy.ac.cy_graduateschool_registration-procedure-registration-in-courses-phd.md (deflated 64%)\n",
            "  adding: content/long_files/www.ucy.ac.cy_graduateschool_scholarships.md (deflated 68%)\n",
            "  adding: content/long_files/www.ucy.ac.cy_graduateschool_procedure-for-a-dissertation-defense-presentation-of-a-ph-d-thesis.md (deflated 64%)\n",
            "  adding: content/long_files/www.ucy.ac.cy_econ_time-mbe.md (deflated 68%)\n",
            "  adding: content/long_files/www.ucy.ac.cy_aasw_studies_undergraduate-studies_upopsifioi-apo-ellada.md (deflated 73%)\n",
            "  adding: content/long_files/www.ucy.ac.cy_graduateschool_requirements-for-master.md (deflated 58%)\n",
            "  adding: content/long_files/www.ucy.ac.cy_aasw_student-welfare_housing-office_activities.md (deflated 56%)\n",
            "  adding: content/long_files/www.ucy.ac.cy_itis_services.md (deflated 61%)\n",
            "  adding: content/long_files/www.ucy.ac.cy_econ_master-in-behavioural-economics.md (deflated 60%)\n",
            "  adding: content/long_files/www.ucy.ac.cy_sap_ma-peace-conflict-democracy.md (deflated 61%)\n",
            "  adding: content/long_files/www.ucy.ac.cy_graduateschool_application_forms.md (deflated 60%)\n",
            "  adding: content/long_files/www.ucy.ac.cy_aasw_studies_undergraduate-studies_candidates_from_cyprus.md (deflated 74%)\n",
            "  adding: content/long_files/www.ucy.ac.cy_graduateschool_rules-for-co-supervision-of-ph-d-thesis.md (deflated 56%)\n",
            "  adding: content/long_files/www.ucy.ac.cy_internationalsupport_home_forms.md (deflated 66%)\n",
            "  adding: content/long_files/www.ucy.ac.cy_aasw_studies_undergraduate-studies_schedule-classes.md (deflated 73%)\n",
            "  adding: content/long_files/www.ucy.ac.cy_graduateschool_fees.md (deflated 68%)\n",
            "  adding: content/long_files/www.ucy.ac.cy_graduateschool_structure-specifications-approve-of-ph-d-thesis.md (deflated 65%)\n",
            "  adding: content/long_files/www.ucy.ac.cy_medical_master_programme_english.md (deflated 62%)\n",
            "  adding: content/long_files/www.ucy.ac.cy_aasw_student-welfare_housing-office_summer-accommodation.md (deflated 68%)\n",
            "  adding: content/long_files/www.ucy.ac.cy_graduateschool_language-of-instruction-and-duration-of-studies.md (deflated 55%)\n",
            "  adding: content/long_files/www.ucy.ac.cy.md (deflated 67%)\n",
            "  adding: content/long_files/www.ucy.ac.cy_internationalsupport_home_faq.md (deflated 60%)\n",
            "  adding: content/long_files/www.ucy.ac.cy_itis_policies.md (deflated 65%)\n",
            "  adding: content/long_files/www.ucy.ac.cy_aasw_student-welfare_housing-office_resident-assistants.md (deflated 64%)\n",
            "  adding: content/long_files/www.ucy.ac.cy_expressservices_area-of-responsibility.md (deflated 44%)\n",
            "  adding: content/long_files/www.ucy.ac.cy_graduateschool_attendance_regulations.md (deflated 68%)\n",
            "  adding: content/long_files/www.ucy.ac.cy_itis_working-hours.md (deflated 59%)\n",
            "  adding: content/long_files/www.ucy.ac.cy_graduateschool_assistance-student-offers.md (deflated 47%)\n",
            "  adding: content/long_files/www.ucy.ac.cy_graduateschool_faq-2.md (deflated 73%)\n",
            "  adding: content/long_files/www.ucy.ac.cy_graduateschool_fees-phd-students.md (deflated 72%)\n",
            "  adding: content/long_files/www.ucy.ac.cy_graduateschool_admission-requirements-2.md (deflated 57%)\n",
            "  adding: content/long_files/www.ucy.ac.cy_graduateschool_health-care-for-students.md (deflated 62%)\n",
            "  adding: content/long_files/www.ucy.ac.cy_graduateschool_postgraduate-programmes-places.md (deflated 67%)\n",
            "  adding: content/long_files/www.ucy.ac.cy_graduateschool_services.md (deflated 60%)\n",
            "  adding: content/long_files/www.ucy.ac.cy_graduateschool_apply-now.md (deflated 54%)\n",
            "  adding: content/long_files/www.ucy.ac.cy_graduateschool_useful-information.md (deflated 62%)\n",
            "  adding: content/long_files/www.ucy.ac.cy_byz.md (deflated 73%)\n",
            "  adding: content/long_files/www.ucy.ac.cy_conservation.md (deflated 73%)\n",
            "  adding: content/long_files/www.ucy.ac.cy_graduateschool_postgraduate-programme-places-for-the-fall-semester-of-the-academic-year-2025-2026-entry-september-2025.md (deflated 71%)\n",
            "  adding: content/long_files/www.ucy.ac.cy_aasw_studies_undergraduate-studies_exam-schedule.md (deflated 72%)\n",
            "  adding: content/long_files/www.ucy.ac.cy_afn_programmes-of-study_master-in-finance.md (deflated 54%)\n",
            "  adding: content/long_files/www.cs.ucy.ac.cy_index.php_education_postgrad_master-in-artificial-intelligence.md (deflated 55%)\n",
            "  adding: content/long_files/www.globed.eu.md (deflated 64%)\n",
            "  adding: content/long_files/www.ucy.ac.cy_internationalsupport.md (deflated 80%)\n",
            "  adding: content/long_files/www.ucy.ac.cy_aasw_studies_undergraduate-studies_international_students.md (deflated 63%)\n",
            "  adding: content/long_files/cs.ucy.ac.cy_index.php_education_postgrad_master-in-cognitive-systems.md (deflated 50%)\n",
            "  adding: content/long_files/www.ucy.ac.cy_graduateschool_scholarships-for-siblings-or-first-degree-relatives-or-married-partners-3.md (deflated 75%)\n",
            "  adding: content/long_files/www.ucy.ac.cy_graduateschool_requirements-for-phd-degree.md (deflated 68%)\n",
            "  adding: content/long_files/www.ucy.ac.cy_eng_programmes-of-study_ma-programmes.md (deflated 67%)\n",
            "  adding: content/long_files/www.ucy.ac.cy_graduateschool_vision.md (deflated 52%)\n",
            "  adding: content/long_files/www.ucy.ac.cy_cee_programmes-of-study_postgraduate-programmes_meng-in-civil-engineering.md (deflated 65%)\n",
            "  adding: content/long_files/www.ucy.ac.cy_graduateschool_diploma-supplement.md (deflated 42%)\n",
            "  adding: content/long_files/www.ucy.ac.cy_aasw_student-welfare_social-support_financial-support.md (deflated 61%)\n",
            "  adding: content/long_files/www.ucy.ac.cy_aasw_student-welfare_housing-office_student-halls.md (deflated 71%)\n",
            "  adding: content/long_files/www.ucy.ac.cy_aasw_studies_undergraduate-studies_undergraduate_rules.md (deflated 73%)\n",
            "  adding: content/long_files/www.ucy.ac.cy_aasw_student-welfare_housing-office_private-accommodation.md (deflated 67%)\n",
            "  adding: content/long_files/www.ucy.ac.cy_graduateschool_people_board.md (deflated 68%)\n",
            "  adding: content/long_files/www.ucy.ac.cy_aasw_bannerweb.md (deflated 64%)\n",
            "  adding: content/config.py (deflated 39%)\n",
            "  adding: content/chrysisRagDeepThought_pre-run.zip (stored 0%)\n",
            "  adding: content/3_evaluate_retrieval.py (deflated 65%)\n",
            "  adding: content/requirements.txt (deflated 23%)\n",
            "  adding: content/1_dataset_pipeline.py (deflated 68%)\n",
            "  adding: content/4_evaluate_generation.py (deflated 65%)\n",
            "  adding: content/generated_qa_dataset.xlsx (deflated 3%)\n",
            "  adding: content/evaluation_plots/ (stored 0%)\n",
            "  adding: content/evaluation_plots/retrieval_metrics_comparison.png (deflated 29%)\n",
            "  adding: content/evaluation_plots/semantic_similarity_distribution.png (deflated 15%)\n",
            "  adding: content/2_interactive_agent.py (deflated 62%)\n",
            "  adding: content/utils.py (deflated 64%)\n"
          ]
        }
      ]
    },
    {
      "cell_type": "code",
      "source": [
        "from google.colab import files\n",
        "files.download('/content/chrysisRagDeepThought_outputs.zip')"
      ],
      "metadata": {
        "colab": {
          "base_uri": "https://localhost:8080/",
          "height": 17
        },
        "id": "f3K28rNz4WUJ",
        "outputId": "408ea55b-2ca3-44cc-d140-6e975b596e54"
      },
      "execution_count": 14,
      "outputs": [
        {
          "output_type": "display_data",
          "data": {
            "text/plain": [
              "<IPython.core.display.Javascript object>"
            ],
            "application/javascript": [
              "\n",
              "    async function download(id, filename, size) {\n",
              "      if (!google.colab.kernel.accessAllowed) {\n",
              "        return;\n",
              "      }\n",
              "      const div = document.createElement('div');\n",
              "      const label = document.createElement('label');\n",
              "      label.textContent = `Downloading \"${filename}\": `;\n",
              "      div.appendChild(label);\n",
              "      const progress = document.createElement('progress');\n",
              "      progress.max = size;\n",
              "      div.appendChild(progress);\n",
              "      document.body.appendChild(div);\n",
              "\n",
              "      const buffers = [];\n",
              "      let downloaded = 0;\n",
              "\n",
              "      const channel = await google.colab.kernel.comms.open(id);\n",
              "      // Send a message to notify the kernel that we're ready.\n",
              "      channel.send({})\n",
              "\n",
              "      for await (const message of channel.messages) {\n",
              "        // Send a message to notify the kernel that we're ready.\n",
              "        channel.send({})\n",
              "        if (message.buffers) {\n",
              "          for (const buffer of message.buffers) {\n",
              "            buffers.push(buffer);\n",
              "            downloaded += buffer.byteLength;\n",
              "            progress.value = downloaded;\n",
              "          }\n",
              "        }\n",
              "      }\n",
              "      const blob = new Blob(buffers, {type: 'application/binary'});\n",
              "      const a = document.createElement('a');\n",
              "      a.href = window.URL.createObjectURL(blob);\n",
              "      a.download = filename;\n",
              "      div.appendChild(a);\n",
              "      a.click();\n",
              "      div.remove();\n",
              "    }\n",
              "  "
            ]
          },
          "metadata": {}
        },
        {
          "output_type": "display_data",
          "data": {
            "text/plain": [
              "<IPython.core.display.Javascript object>"
            ],
            "application/javascript": [
              "download(\"download_38f96db4-3deb-4141-8b88-a41f1ed8ffdb\", \"chrysisRagDeepThought_outputs.zip\", 4668105)"
            ]
          },
          "metadata": {}
        }
      ]
    }
  ]
}
