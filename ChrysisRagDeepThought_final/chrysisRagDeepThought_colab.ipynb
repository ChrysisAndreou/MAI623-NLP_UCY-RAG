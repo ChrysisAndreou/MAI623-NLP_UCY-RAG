{
  "nbformat": 4,
  "nbformat_minor": 0,
  "metadata": {
    "colab": {
      "provenance": [],
      "gpuType": "L4",
      "collapsed_sections": [
        "iOuqnCKQnYU0",
        "bQIG2xftqLf4",
        "qCnG1XL-2mSs"
      ],
      "machine_shape": "hm"
    },
    "kernelspec": {
      "name": "python3",
      "display_name": "Python 3"
    },
    "language_info": {
      "name": "python"
    },
    "accelerator": "GPU"
  },
  "cells": [
    {
      "cell_type": "markdown",
      "source": [
        "# Intro and setup"
      ],
      "metadata": {
        "id": "GmVqZ03cYLQL"
      }
    },
    {
      "cell_type": "markdown",
      "source": [
        "## I am DeepThought"
      ],
      "metadata": {
        "id": "cBnDOOGzhaEt"
      }
    },
    {
      "cell_type": "markdown",
      "source": [
        "I am DeepThought, a supercomputer designed to serve as a RAG system for answering questions about the University of Cyprus. I have been tested on 42 questions and answered them all correctly. I am ready for more!\n",
        "\n",
        "To clarify, the number 42 is my famous answer, known as the \"Answer to the Ultimate Question of Life, The Universe, and Everything\" from The Hitchhiker's Guide to the Galaxy by Douglas Adams. In my biography, as Douglas mentions, the actual question remains unknown, making the answer cryptic and humorous. So, keep asking questions until you find the ULTIMATE QUESTION!"
      ],
      "metadata": {
        "id": "VEMbszkEgIsJ"
      }
    },
    {
      "cell_type": "markdown",
      "source": [
        "## Instructions"
      ],
      "metadata": {
        "id": "23ogSwrahe8P"
      }
    },
    {
      "cell_type": "markdown",
      "source": [
        "Open the chrysisRagDeepThought_colab notebook and follow its instructions.\n",
        "\n",
        "Load the chrysisRagDeepThought_pre-run.zip folder, prepare a TOGETHER_API_KEY, and input it when prompted. Run the code in the specified order.\n",
        "\n",
        "The file chrysisRagDeepThought_outputs.zip will be downloaded after running all cells."
      ],
      "metadata": {
        "id": "i2lSwZlFfVOt"
      }
    },
    {
      "cell_type": "markdown",
      "source": [
        "## Unzip chrysisRagDeepThought_pre-run folder"
      ],
      "metadata": {
        "id": "cwcr9cqYhlZU"
      }
    },
    {
      "cell_type": "code",
      "source": [
        "!unzip chrysisRagDeepThought_pre-run.zip -d /content/"
      ],
      "metadata": {
        "id": "PTO4MDOgAU5S"
      },
      "execution_count": null,
      "outputs": []
    },
    {
      "cell_type": "markdown",
      "source": [
        "## Install requirements"
      ],
      "metadata": {
        "id": "CYi_lWomhouU"
      }
    },
    {
      "cell_type": "code",
      "source": [
        "!pip install -r requirements.txt"
      ],
      "metadata": {
        "id": "jF4GFr5IbBGa"
      },
      "execution_count": null,
      "outputs": []
    },
    {
      "cell_type": "markdown",
      "source": [
        "## Enter TOGETHER_API_KEY"
      ],
      "metadata": {
        "id": "C8142jzAhtPN"
      }
    },
    {
      "cell_type": "code",
      "source": [
        "import os\n",
        "from getpass import getpass\n",
        "\n",
        "# Prompt user for API key\n",
        "api_key = getpass('Enter your TOGETHER_API_KEY: ')\n",
        "\n",
        "# Set the environment variable\n",
        "os.environ['TOGETHER_API_KEY'] = api_key\n",
        "\n",
        "# Optional: Verify the variable is set (remove in production)\n",
        "print(\"API key set successfully!\")"
      ],
      "metadata": {
        "id": "t51SAzc_b-ab"
      },
      "execution_count": null,
      "outputs": []
    },
    {
      "cell_type": "markdown",
      "source": [
        "## Or set TOGETHER_API_KEY as secret key in colab"
      ],
      "metadata": {
        "id": "G-I994YrhxsZ"
      }
    },
    {
      "cell_type": "code",
      "source": [
        "from google.colab import userdata\n",
        "import os\n",
        "\n",
        "os.environ['TOGETHER_API_KEY'] = userdata.get('TOGETHER_API_KEY')\n",
        "\n",
        "if os.getenv('TOGETHER_API_KEY'):\n",
        "  print(\"TOGETHER_API_KEY loaded successfully.\")\n",
        "else:\n",
        "  print(\"Error: TOGETHER_API_KEY not found.\")"
      ],
      "metadata": {
        "colab": {
          "base_uri": "https://localhost:8080/"
        },
        "id": "4SlW3sKcAtO5",
        "outputId": "4882444d-9391-493f-987d-c91fc8cb9ffe"
      },
      "execution_count": 3,
      "outputs": [
        {
          "output_type": "stream",
          "name": "stdout",
          "text": [
            "TOGETHER_API_KEY loaded successfully.\n"
          ]
        }
      ]
    },
    {
      "cell_type": "markdown",
      "source": [
        "# 1) prepare dataset with 42 questions"
      ],
      "metadata": {
        "id": "oFXBGN8Ah714"
      }
    },
    {
      "cell_type": "code",
      "source": [
        "!python 1_dataset_pipeline.py"
      ],
      "metadata": {
        "id": "7KvTaaIya4NP"
      },
      "execution_count": null,
      "outputs": []
    },
    {
      "cell_type": "markdown",
      "source": [
        "# 2) Ask me anything"
      ],
      "metadata": {
        "id": "NhyVsIchiAdu"
      }
    },
    {
      "cell_type": "code",
      "source": [
        "!python 2_interactive_agent.py"
      ],
      "metadata": {
        "id": "0lO5XLtsa4Z9"
      },
      "execution_count": null,
      "outputs": []
    },
    {
      "cell_type": "markdown",
      "source": [
        "# 3) Evaluate retrieval"
      ],
      "metadata": {
        "id": "cp60BRWoiE4T"
      }
    },
    {
      "cell_type": "markdown",
      "source": [
        "**Evaluating Retrieval**\n",
        "\n",
        "When we run the `1_dataset_pipeline.py` script, it generates the file `generated_qa_dataset_ranked`, which is then used by `3_evaluate_retrieval.py` to evaluate retrieval performance. However, some of the generated questions are non-specific, leading to poor retrieval. To address this, I manually removed the non-specific questions in a previous run and saved the cleaned output as `generated_qa_dataset_ranked_goodQuestions`. If you run `3_evaluate_retrieval.py` on this file (after renaming it back to `generated_qa_dataset_ranked`), you’ll see improved metrics.\n",
        "\n",
        "More specifically, after removing the eight non-specific questions and rerunning retrieval on the remaining 34 high-quality questions (k = 5), the metrics compare as follows:\n",
        "\n",
        "* **Mean Hit Rate @5:** before 0.6905 → now 0.8485\n",
        "* **Mean Reciprocal Rank @5:** before 0.5337 → now 0.6490\n",
        "* **Mean Precision @5:** before 0.3143 → now 0.3879\n",
        "* **Mean Kendall’s Tau-b @5:** before 0.2667 → now 0.3091\n",
        "\n",
        "These improvements confirm that evaluating only well-posed, specific questions yields more accurate and meaningful retrieval metrics.\n"
      ],
      "metadata": {
        "id": "leqsjbTBjUte"
      }
    },
    {
      "cell_type": "code",
      "source": [
        "!python 3_evaluate_retrieval.py"
      ],
      "metadata": {
        "id": "X3Xl3ajDBIYN"
      },
      "execution_count": null,
      "outputs": []
    },
    {
      "cell_type": "markdown",
      "source": [
        "# 4) Evaluate answering the 42 questions"
      ],
      "metadata": {
        "id": "iOuqnCKQnYU0"
      }
    },
    {
      "cell_type": "code",
      "source": [
        "!python 4_evaluate_generation.py"
      ],
      "metadata": {
        "id": "RJ4aL1hebC6q",
        "colab": {
          "base_uri": "https://localhost:8080/"
        },
        "outputId": "a7eddf88-0e9d-46f9-975d-b759563c17ca"
      },
      "execution_count": null,
      "outputs": [
        {
          "output_type": "stream",
          "name": "stdout",
          "text": [
            "2025-05-05 09:37:49.111692: I tensorflow/core/util/port.cc:153] oneDNN custom operations are on. You may see slightly different numerical results due to floating-point round-off errors from different computation orders. To turn them off, set the environment variable `TF_ENABLE_ONEDNN_OPTS=0`.\n",
            "2025-05-05 09:37:49.129999: E external/local_xla/xla/stream_executor/cuda/cuda_fft.cc:477] Unable to register cuFFT factory: Attempting to register factory for plugin cuFFT when one has already been registered\n",
            "WARNING: All log messages before absl::InitializeLog() is called are written to STDERR\n",
            "E0000 00:00:1746437869.151913    9339 cuda_dnn.cc:8310] Unable to register cuDNN factory: Attempting to register factory for plugin cuDNN when one has already been registered\n",
            "E0000 00:00:1746437869.158613    9339 cuda_blas.cc:1418] Unable to register cuBLAS factory: Attempting to register factory for plugin cuBLAS when one has already been registered\n",
            "2025-05-05 09:37:49.180671: I tensorflow/core/platform/cpu_feature_guard.cc:210] This TensorFlow binary is optimized to use available CPU instructions in performance-critical operations.\n",
            "To enable the following instructions: AVX2 AVX512F AVX512_VNNI FMA, in other operations, rebuild TensorFlow with the appropriate compiler flags.\n",
            "INFO - --- Starting Generation Evaluation ---\n",
            "INFO - --- Initializing RAG Agent Core ---\n",
            "INFO - Loading embedding model: intfloat/multilingual-e5-large-instruct\n",
            "INFO - Embedding model loaded.\n",
            "INFO - Together client initialized successfully.\n",
            "INFO - Loading documents from ./long_files with chunk size 200...\n",
            "INFO - Found 72 markdown files in './long_files'.\n",
            "Loading and Chunking Documents: 100% 72/72 [00:00<00:00, 104.51it/s]\n",
            "INFO - Generated 1002 chunks from 72 files.\n",
            "INFO - Attempting to load existing index from indexE5.faiss...\n",
            "INFO - --- RAG Agent Core Initialization Complete ---\n",
            "INFO - Loading evaluation dataset from: generated_qa_dataset_ranked.xlsx\n",
            "INFO - Loaded 42 evaluation Q&A pairs.\n",
            "INFO - Running retrieval and generation for 42 questions...\n",
            "Evaluating Generation:   0% 0/42 [00:00<?, ?it/s]INFO - Generating answer with model 'meta-llama/Llama-3.3-70B-Instruct-Turbo-Free' via Together AI...\n",
            "INFO - Successfully generated answer.\n",
            "Evaluating Generation:   2% 1/42 [00:01<00:57,  1.40s/it]INFO - Generating answer with model 'meta-llama/Llama-3.3-70B-Instruct-Turbo-Free' via Together AI...\n",
            "INFO - Successfully generated answer.\n",
            "Evaluating Generation:   5% 2/42 [00:02<00:42,  1.07s/it]INFO - Generating answer with model 'meta-llama/Llama-3.3-70B-Instruct-Turbo-Free' via Together AI...\n",
            "INFO - Successfully generated answer.\n",
            "Evaluating Generation:   7% 3/42 [00:18<05:11,  8.00s/it]INFO - Generating answer with model 'meta-llama/Llama-3.3-70B-Instruct-Turbo-Free' via Together AI...\n",
            "INFO - Successfully generated answer.\n",
            "Evaluating Generation:  10% 4/42 [00:21<03:54,  6.18s/it]INFO - Generating answer with model 'meta-llama/Llama-3.3-70B-Instruct-Turbo-Free' via Together AI...\n",
            "INFO - Successfully generated answer.\n",
            "Evaluating Generation:  12% 5/42 [00:29<04:05,  6.64s/it]INFO - Generating answer with model 'meta-llama/Llama-3.3-70B-Instruct-Turbo-Free' via Together AI...\n",
            "INFO - Successfully generated answer.\n",
            "Evaluating Generation:  14% 6/42 [00:31<03:00,  5.01s/it]INFO - Generating answer with model 'meta-llama/Llama-3.3-70B-Instruct-Turbo-Free' via Together AI...\n",
            "INFO - Successfully generated answer.\n",
            "Evaluating Generation:  17% 7/42 [00:45<04:43,  8.11s/it]INFO - Generating answer with model 'meta-llama/Llama-3.3-70B-Instruct-Turbo-Free' via Together AI...\n",
            "INFO - Successfully generated answer.\n",
            "Evaluating Generation:  19% 8/42 [00:49<03:48,  6.72s/it]INFO - Generating answer with model 'meta-llama/Llama-3.3-70B-Instruct-Turbo-Free' via Together AI...\n",
            "INFO - Successfully generated answer.\n",
            "Evaluating Generation:  21% 9/42 [01:04<05:13,  9.49s/it]INFO - Generating answer with model 'meta-llama/Llama-3.3-70B-Instruct-Turbo-Free' via Together AI...\n",
            "INFO - Successfully generated answer.\n",
            "Evaluating Generation:  24% 10/42 [01:08<04:00,  7.52s/it]INFO - Generating answer with model 'meta-llama/Llama-3.3-70B-Instruct-Turbo-Free' via Together AI...\n",
            "INFO - Successfully generated answer.\n",
            "Evaluating Generation:  26% 11/42 [01:20<04:41,  9.09s/it]INFO - Generating answer with model 'meta-llama/Llama-3.3-70B-Instruct-Turbo-Free' via Together AI...\n",
            "INFO - Successfully generated answer.\n",
            "Evaluating Generation:  29% 12/42 [01:27<04:13,  8.46s/it]INFO - Generating answer with model 'meta-llama/Llama-3.3-70B-Instruct-Turbo-Free' via Together AI...\n",
            "INFO - Successfully generated answer.\n",
            "Evaluating Generation:  31% 13/42 [01:30<03:12,  6.63s/it]INFO - Generating answer with model 'meta-llama/Llama-3.3-70B-Instruct-Turbo-Free' via Together AI...\n",
            "INFO - Successfully generated answer.\n",
            "Evaluating Generation:  33% 14/42 [01:36<03:03,  6.57s/it]INFO - Generating answer with model 'meta-llama/Llama-3.3-70B-Instruct-Turbo-Free' via Together AI...\n",
            "INFO - Successfully generated answer.\n",
            "Evaluating Generation:  36% 15/42 [01:46<03:25,  7.62s/it]INFO - Generating answer with model 'meta-llama/Llama-3.3-70B-Instruct-Turbo-Free' via Together AI...\n",
            "INFO - Successfully generated answer.\n",
            "Evaluating Generation:  38% 16/42 [01:52<03:01,  7.00s/it]INFO - Generating answer with model 'meta-llama/Llama-3.3-70B-Instruct-Turbo-Free' via Together AI...\n",
            "INFO - Successfully generated answer.\n",
            "Evaluating Generation:  40% 17/42 [02:05<03:43,  8.92s/it]INFO - Generating answer with model 'meta-llama/Llama-3.3-70B-Instruct-Turbo-Free' via Together AI...\n",
            "INFO - Successfully generated answer.\n",
            "Evaluating Generation:  43% 18/42 [02:12<03:22,  8.42s/it]INFO - Generating answer with model 'meta-llama/Llama-3.3-70B-Instruct-Turbo-Free' via Together AI...\n",
            "INFO - Successfully generated answer.\n",
            "Evaluating Generation:  45% 19/42 [02:21<03:17,  8.61s/it]INFO - Generating answer with model 'meta-llama/Llama-3.3-70B-Instruct-Turbo-Free' via Together AI...\n",
            "INFO - Successfully generated answer.\n",
            "Evaluating Generation:  48% 20/42 [02:29<03:01,  8.26s/it]INFO - Generating answer with model 'meta-llama/Llama-3.3-70B-Instruct-Turbo-Free' via Together AI...\n",
            "INFO - Successfully generated answer.\n",
            "Evaluating Generation:  50% 21/42 [02:33<02:28,  7.07s/it]INFO - Generating answer with model 'meta-llama/Llama-3.3-70B-Instruct-Turbo-Free' via Together AI...\n",
            "INFO - Successfully generated answer.\n",
            "Evaluating Generation:  52% 22/42 [02:36<01:56,  5.84s/it]INFO - Generating answer with model 'meta-llama/Llama-3.3-70B-Instruct-Turbo-Free' via Together AI...\n",
            "INFO - Successfully generated answer.\n",
            "Evaluating Generation:  55% 23/42 [02:46<02:12,  6.95s/it]INFO - Generating answer with model 'meta-llama/Llama-3.3-70B-Instruct-Turbo-Free' via Together AI...\n",
            "INFO - Successfully generated answer.\n",
            "Evaluating Generation:  57% 24/42 [02:47<01:36,  5.37s/it]INFO - Generating answer with model 'meta-llama/Llama-3.3-70B-Instruct-Turbo-Free' via Together AI...\n",
            "INFO - Successfully generated answer.\n",
            "Evaluating Generation:  60% 25/42 [03:02<02:19,  8.18s/it]INFO - Generating answer with model 'meta-llama/Llama-3.3-70B-Instruct-Turbo-Free' via Together AI...\n",
            "INFO - Successfully generated answer.\n",
            "Evaluating Generation:  62% 26/42 [03:03<01:38,  6.15s/it]INFO - Generating answer with model 'meta-llama/Llama-3.3-70B-Instruct-Turbo-Free' via Together AI...\n",
            "INFO - Successfully generated answer.\n",
            "Evaluating Generation:  64% 27/42 [03:18<02:08,  8.55s/it]INFO - Generating answer with model 'meta-llama/Llama-3.3-70B-Instruct-Turbo-Free' via Together AI...\n",
            "INFO - Successfully generated answer.\n",
            "Evaluating Generation:  67% 28/42 [03:20<01:33,  6.70s/it]INFO - Generating answer with model 'meta-llama/Llama-3.3-70B-Instruct-Turbo-Free' via Together AI...\n",
            "INFO - Successfully generated answer.\n",
            "Evaluating Generation:  69% 29/42 [03:38<02:09, 10.00s/it]INFO - Generating answer with model 'meta-llama/Llama-3.3-70B-Instruct-Turbo-Free' via Together AI...\n",
            "INFO - Successfully generated answer.\n",
            "Evaluating Generation:  71% 30/42 [03:39<01:27,  7.27s/it]INFO - Generating answer with model 'meta-llama/Llama-3.3-70B-Instruct-Turbo-Free' via Together AI...\n",
            "INFO - Successfully generated answer.\n",
            "Evaluating Generation:  74% 31/42 [03:46<01:18,  7.16s/it]INFO - Generating answer with model 'meta-llama/Llama-3.3-70B-Instruct-Turbo-Free' via Together AI...\n",
            "INFO - Successfully generated answer.\n",
            "Evaluating Generation:  76% 32/42 [03:50<01:02,  6.21s/it]INFO - Generating answer with model 'meta-llama/Llama-3.3-70B-Instruct-Turbo-Free' via Together AI...\n",
            "INFO - Successfully generated answer.\n",
            "Evaluating Generation:  79% 33/42 [03:57<00:57,  6.44s/it]INFO - Generating answer with model 'meta-llama/Llama-3.3-70B-Instruct-Turbo-Free' via Together AI...\n",
            "INFO - Successfully generated answer.\n",
            "Evaluating Generation:  81% 34/42 [04:01<00:45,  5.71s/it]INFO - Generating answer with model 'meta-llama/Llama-3.3-70B-Instruct-Turbo-Free' via Together AI...\n",
            "INFO - Successfully generated answer.\n",
            "Evaluating Generation:  83% 35/42 [04:08<00:43,  6.21s/it]INFO - Generating answer with model 'meta-llama/Llama-3.3-70B-Instruct-Turbo-Free' via Together AI...\n",
            "INFO - Successfully generated answer.\n",
            "Evaluating Generation:  86% 36/42 [04:15<00:38,  6.45s/it]INFO - Generating answer with model 'meta-llama/Llama-3.3-70B-Instruct-Turbo-Free' via Together AI...\n",
            "INFO - Successfully generated answer.\n",
            "Evaluating Generation:  88% 37/42 [04:21<00:32,  6.45s/it]INFO - Generating answer with model 'meta-llama/Llama-3.3-70B-Instruct-Turbo-Free' via Together AI...\n",
            "INFO - Successfully generated answer.\n",
            "Evaluating Generation:  90% 38/42 [04:27<00:25,  6.30s/it]INFO - Generating answer with model 'meta-llama/Llama-3.3-70B-Instruct-Turbo-Free' via Together AI...\n",
            "INFO - Successfully generated answer.\n",
            "Evaluating Generation:  93% 39/42 [04:36<00:20,  6.90s/it]INFO - Generating answer with model 'meta-llama/Llama-3.3-70B-Instruct-Turbo-Free' via Together AI...\n",
            "INFO - Successfully generated answer.\n",
            "Evaluating Generation:  95% 40/42 [04:36<00:10,  5.08s/it]INFO - Generating answer with model 'meta-llama/Llama-3.3-70B-Instruct-Turbo-Free' via Together AI...\n",
            "INFO - Successfully generated answer.\n",
            "Evaluating Generation:  98% 41/42 [04:53<00:08,  8.38s/it]INFO - Generating answer with model 'meta-llama/Llama-3.3-70B-Instruct-Turbo-Free' via Together AI...\n",
            "INFO - Successfully generated answer.\n",
            "Evaluating Generation: 100% 42/42 [04:56<00:00,  7.06s/it]\n",
            "INFO - Generated answers for 42 questions.\n",
            "INFO - Created DataFrame with generated results.\n",
            "INFO - Calculating Semantic Similarity between generated and ground truth answers...\n",
            "Batches: 100% 2/2 [00:00<00:00,  6.87it/s]\n",
            "Batches: 100% 2/2 [00:00<00:00,  6.70it/s]\n",
            "INFO - Mean Semantic Similarity: 0.9421\n",
            "INFO - --- Overall Generation Evaluation Metrics ---\n",
            "Evaluated on 42 questions.\n",
            "Mean Semantic Similarity: 0.9421\n",
            "INFO - Evaluation finished in 305.83 seconds.\n",
            "INFO - Detailed evaluation results saved to generation_evaluation_results.csv\n"
          ]
        }
      ]
    },
    {
      "cell_type": "markdown",
      "source": [
        "# 5) Vizuazize evaluation"
      ],
      "metadata": {
        "id": "bQIG2xftqLf4"
      }
    },
    {
      "cell_type": "code",
      "source": [
        "!python 5_visualize_evaluation.py"
      ],
      "metadata": {
        "colab": {
          "base_uri": "https://localhost:8080/"
        },
        "id": "2H-VIik-qOqp",
        "outputId": "71d69fee-9edf-409e-b841-74e3a43307d3"
      },
      "execution_count": null,
      "outputs": [
        {
          "output_type": "stream",
          "name": "stdout",
          "text": [
            "INFO - Created output directory: evaluation_plots\n",
            "INFO - --- Starting Evaluation Visualization ---\n",
            "INFO - Loading generation results from: generation_evaluation_results.csv\n",
            "INFO - Loaded 42 generation results.\n",
            "INFO - Saved semantic similarity plot to evaluation_plots/semantic_similarity_distribution.png\n",
            "INFO - Loading retrieval summary from: retrieval_evaluation_summary.json\n",
            "INFO - Loaded retrieval summary.\n",
            "INFO - Saved retrieval metrics plot to evaluation_plots/retrieval_metrics_comparison.png\n",
            "INFO - --- Evaluation Visualization Finished ---\n"
          ]
        }
      ]
    },
    {
      "cell_type": "markdown",
      "source": [
        "# download everything"
      ],
      "metadata": {
        "id": "qCnG1XL-2mSs"
      }
    },
    {
      "cell_type": "code",
      "source": [
        "!zip -r /content/chrysisRagDeepThought_outputs.zip /content -x /content/sample_data/\\* /content/.config/\\* /content/__pycache__/\\* /content/__MACOSX/\\*"
      ],
      "metadata": {
        "colab": {
          "base_uri": "https://localhost:8080/"
        },
        "id": "Or0rchdS6pC7",
        "outputId": "379a675c-aa98-401a-e724-10834b8f2370"
      },
      "execution_count": null,
      "outputs": [
        {
          "output_type": "stream",
          "name": "stdout",
          "text": [
            "  adding: content/ (stored 0%)\n",
            "  adding: content/.ipynb_checkpoints/ (stored 0%)\n",
            "  adding: content/config.py (deflated 39%)\n",
            "  adding: content/cluster_plots/ (stored 0%)\n",
            "  adding: content/cluster_plots/kmeans_tsne_clusters_k31_highlighted.png (deflated 3%)\n",
            "  adding: content/utils.py (deflated 64%)\n",
            "  adding: content/chrysisRagDeepThought_pre-run.zip (stored 0%)\n",
            "  adding: content/rag_core.py (deflated 68%)\n",
            "  adding: content/5_visualize_evaluation.py (deflated 64%)\n",
            "  adding: content/3_evaluate_retrieval.py (deflated 65%)\n",
            "  adding: content/2_interactive_agent.py (deflated 62%)\n",
            "  adding: content/requirements.txt (deflated 23%)\n",
            "  adding: content/index.faiss (deflated 7%)\n",
            "  adding: content/evaluation_plots/ (stored 0%)\n",
            "  adding: content/evaluation_plots/semantic_similarity_distribution.png (deflated 15%)\n",
            "  adding: content/evaluation_plots/retrieval_metrics_comparison.png (deflated 30%)\n",
            "  adding: content/generated_qa_dataset.xlsx (deflated 3%)\n",
            "  adding: content/1_dataset_pipeline.py (deflated 68%)\n",
            "  adding: content/generated_qa_dataset_ranked.xlsx (deflated 1%)\n",
            "  adding: content/long_files/ (stored 0%)\n",
            "  adding: content/long_files/www.ucy.ac.cy_graduateschool_registration-procedure-registration-in-courses-phd.md (deflated 64%)\n",
            "  adding: content/long_files/www.ucy.ac.cy_graduateschool_attendance_regulations.md (deflated 68%)\n",
            "  adding: content/long_files/www.ucy.ac.cy_aasw_studies_undergraduate-studies_international_students.md (deflated 63%)\n",
            "  adding: content/long_files/www.ucy.ac.cy_graduateschool_procedure-for-a-dissertation-defense-presentation-of-a-ph-d-thesis.md (deflated 64%)\n",
            "  adding: content/long_files/www.ucy.ac.cy_aasw_studies_undergraduate-studies_schedule-classes.md (deflated 73%)\n",
            "  adding: content/long_files/www.ucy.ac.cy_graduateschool_structure-specifications-approve-of-ph-d-thesis.md (deflated 65%)\n",
            "  adding: content/long_files/www.ucy.ac.cy_dhla.md (deflated 68%)\n",
            "  adding: content/long_files/www.ucy.ac.cy_itis_services.md (deflated 61%)\n",
            "  adding: content/long_files/www.ucy.ac.cy_graduateschool_postgraduate-programme-places-for-the-fall-semester-of-the-academic-year-2025-2026-entry-september-2025.md (deflated 71%)\n",
            "  adding: content/long_files/www.ucy.ac.cy_afn_programmes-of-study_master-in-finance.md (deflated 54%)\n",
            "  adding: content/long_files/www.ucy.ac.cy_aasw_bannerweb.md (deflated 64%)\n",
            "  adding: content/long_files/www.ucy.ac.cy_edu_programmes-of-study_postgraduate_programmes_creative-learning.md (deflated 53%)\n",
            "  adding: content/long_files/www.ucy.ac.cy_aasw_student-welfare_housing-office_student-halls.md (deflated 71%)\n",
            "  adding: content/long_files/www.ucy.ac.cy_graduateschool_requirements-for-master.md (deflated 58%)\n",
            "  adding: content/long_files/www.ucy.ac.cy_cee_programmes-of-study_postgraduate-programmes_msc-in-civil-engineering.md (deflated 64%)\n",
            "  adding: content/long_files/www.globed.eu.md (deflated 64%)\n",
            "  adding: content/long_files/www.ucy.ac.cy_aasw_studies_undergraduate-studies_undergraduate_rules.md (deflated 73%)\n",
            "  adding: content/long_files/www.ucy.ac.cy_internationalsupport_home_forms.md (deflated 66%)\n",
            "  adding: content/long_files/www.ucy.ac.cy_graduateschool_health-care-for-students.md (deflated 62%)\n",
            "  adding: content/long_files/www.ucy.ac.cy_aasw_student-welfare_housing-office_applying-for-accommodation.md (deflated 75%)\n",
            "  adding: content/long_files/www.ucy.ac.cy_internationalsupport.md (deflated 80%)\n",
            "  adding: content/long_files/www.ucy.ac.cy_itis_working-hours.md (deflated 59%)\n",
            "  adding: content/long_files/www.ucy.ac.cy_itis_policies.md (deflated 65%)\n",
            "  adding: content/long_files/www.ucy.ac.cy_internationalsupport_home_faq.md (deflated 60%)\n",
            "  adding: content/long_files/www.ucy.ac.cy_graduateschool_assistance-student-offers.md (deflated 47%)\n",
            "  adding: content/long_files/dsi.education.md (deflated 55%)\n",
            "  adding: content/long_files/www.ucy.ac.cy_byz.md (deflated 73%)\n",
            "  adding: content/long_files/www.ucy.ac.cy_graduateschool_requirements-for-phd-degree.md (deflated 68%)\n",
            "  adding: content/long_files/www.ucy.ac.cy_aasw_student-welfare_housing-office_summer-accommodation.md (deflated 68%)\n",
            "  adding: content/long_files/www.ucy.ac.cy_graduateschool_admission-requirements-2.md (deflated 57%)\n",
            "  adding: content/long_files/www.ucy.ac.cy_graduateschool_rules-for-co-supervision-of-ph-d-thesis.md (deflated 56%)\n",
            "  adding: content/long_files/www.ucy.ac.cy_publications_studying-at-ucy.md (deflated 76%)\n",
            "  adding: content/long_files/www.ucy.ac.cy_aasw_studies_undergraduate-studies_candidates_from_cyprus.md (deflated 74%)\n",
            "  adding: content/long_files/www.ucy.ac.cy_graduateschool_diploma-supplement.md (deflated 42%)\n",
            "  adding: content/long_files/cs.ucy.ac.cy_index.php_education_postgrad_master-in-cognitive-systems.md (deflated 50%)\n",
            "  adding: content/long_files/www.ucy.ac.cy_aasw_student-welfare_housing-office_resident-assistants.md (deflated 64%)\n",
            "  adding: content/long_files/www.cs.ucy.ac.cy_index.php_education_postgrad_master-in-artificial-intelligence.md (deflated 55%)\n",
            "  adding: content/long_files/www.ucy.ac.cy_graduateschool_scholarships-for-siblings-or-first-degree-relatives-or-married-partners-3.md (deflated 75%)\n",
            "  adding: content/long_files/www.ucy.ac.cy_graduateschool_vision.md (deflated 52%)\n",
            "  adding: content/long_files/www.ucy.ac.cy_graduateschool_fees-phd-students.md (deflated 72%)\n",
            "  adding: content/long_files/www.ucy.ac.cy_graduateschool_ects-system.md (deflated 47%)\n",
            "  adding: content/long_files/www.ucy.ac.cy_aasw_student-welfare_social-support_financial-support.md (deflated 61%)\n",
            "  adding: content/long_files/www.ucy.ac.cy_mhc.md (deflated 62%)\n",
            "  adding: content/long_files/www.ucy.ac.cy_econ_time-mbe.md (deflated 68%)\n",
            "  adding: content/long_files/www.ucy.ac.cy_cee_programmes-of-study_postgraduate-programmes_meng-in-civil-engineering.md (deflated 65%)\n",
            "  adding: content/long_files/www.ucy.ac.cy_sap_ma-peace-conflict-democracy.md (deflated 61%)\n",
            "  adding: content/long_files/www.ucy.ac.cy_graduateschool_useful-information.md (deflated 62%)\n",
            "  adding: content/long_files/www.ucy.ac.cy.md (deflated 67%)\n",
            "  adding: content/long_files/www.ucy.ac.cy_aasw_student-welfare_housing-office_activities.md (deflated 56%)\n",
            "  adding: content/long_files/www.ucy.ac.cy_graduateschool_postgraduate-programme-places-for-the-fall-semester-of-the-academic-year-2025-2026-entry-september-202.md (deflated 74%)\n",
            "  adding: content/long_files/www.ucy.ac.cy_medical_master_programme_english.md (deflated 62%)\n",
            "  adding: content/long_files/www.ucy.ac.cy_graduateschool_scholarships.md (deflated 68%)\n",
            "  adding: content/long_files/www.ucy.ac.cy_graduateschool_language-of-instruction-and-duration-of-studies.md (deflated 55%)\n",
            "  adding: content/long_files/www.ucy.ac.cy_graduateschool_faq-2.md (deflated 73%)\n",
            "  adding: content/long_files/www.ucy.ac.cy_expressservices_area-of-responsibility.md (deflated 44%)\n",
            "  adding: content/long_files/www.ucy.ac.cy_econ_master-in-behavioural-economics.md (deflated 60%)\n",
            "  adding: content/long_files/www.ucy.ac.cy_graduateschool_services.md (deflated 60%)\n",
            "  adding: content/long_files/www.ucy.ac.cy_aasw_student-welfare_housing-office_private-accommodation.md (deflated 67%)\n",
            "  adding: content/long_files/www.ucy.ac.cy_graduation.md (deflated 58%)\n",
            "  adding: content/long_files/www.ucy.ac.cy_graduateschool_postgraduate-programmes-places.md (deflated 67%)\n",
            "  adding: content/long_files/www.ucy.ac.cy_graduateschool_registration-in-courses-for-the-spring-semester-2024-2025.md (deflated 73%)\n",
            "  adding: content/long_files/www.ucy.ac.cy_conservation.md (deflated 73%)\n",
            "  adding: content/long_files/www.ucy.ac.cy_mba.md (deflated 70%)\n",
            "  adding: content/long_files/www.ucy.ac.cy_expressservices_university_card.md (deflated 69%)\n",
            "  adding: content/long_files/www.ucy.ac.cy_aasw_studies_undergraduate-studies_exam-schedule.md (deflated 72%)\n",
            "  adding: content/long_files/www.ucy.ac.cy_eng_programmes-of-study_ma-programmes.md (deflated 67%)\n",
            "  adding: content/long_files/www.ucy.ac.cy_graduateschool_apply-now.md (deflated 54%)\n",
            "  adding: content/long_files/www.ucy.ac.cy_graduateschool_fees.md (deflated 68%)\n",
            "  adding: content/long_files/www.ucy.ac.cy_aasw_studies_undergraduate-studies_upopsifioi-apo-ellada.md (deflated 73%)\n",
            "  adding: content/long_files/www.ucy.ac.cy_graduateschool_application_forms.md (deflated 60%)\n",
            "  adding: content/long_files/www.ucy.ac.cy_graduateschool_people_board.md (deflated 68%)\n",
            "  adding: content/long_files/www.ucy.ac.cy_mhc_meeting-arrangements.md (deflated 57%)\n",
            "  adding: content/indexE5.faiss (deflated 7%)\n",
            "  adding: content/retrieval_evaluation_summary.json (deflated 69%)\n",
            "  adding: content/4_evaluate_generation.py (deflated 65%)\n",
            "  adding: content/generation_evaluation_results.csv (deflated 74%)\n"
          ]
        }
      ]
    },
    {
      "cell_type": "code",
      "source": [
        "from google.colab import files\n",
        "files.download('/content/chrysisRagDeepThought_outputs.zip')"
      ],
      "metadata": {
        "colab": {
          "base_uri": "https://localhost:8080/",
          "height": 17
        },
        "id": "f3K28rNz4WUJ",
        "outputId": "a0105fbe-219d-49ae-d028-d983eea23b70"
      },
      "execution_count": null,
      "outputs": [
        {
          "output_type": "display_data",
          "data": {
            "text/plain": [
              "<IPython.core.display.Javascript object>"
            ],
            "application/javascript": [
              "\n",
              "    async function download(id, filename, size) {\n",
              "      if (!google.colab.kernel.accessAllowed) {\n",
              "        return;\n",
              "      }\n",
              "      const div = document.createElement('div');\n",
              "      const label = document.createElement('label');\n",
              "      label.textContent = `Downloading \"${filename}\": `;\n",
              "      div.appendChild(label);\n",
              "      const progress = document.createElement('progress');\n",
              "      progress.max = size;\n",
              "      div.appendChild(progress);\n",
              "      document.body.appendChild(div);\n",
              "\n",
              "      const buffers = [];\n",
              "      let downloaded = 0;\n",
              "\n",
              "      const channel = await google.colab.kernel.comms.open(id);\n",
              "      // Send a message to notify the kernel that we're ready.\n",
              "      channel.send({})\n",
              "\n",
              "      for await (const message of channel.messages) {\n",
              "        // Send a message to notify the kernel that we're ready.\n",
              "        channel.send({})\n",
              "        if (message.buffers) {\n",
              "          for (const buffer of message.buffers) {\n",
              "            buffers.push(buffer);\n",
              "            downloaded += buffer.byteLength;\n",
              "            progress.value = downloaded;\n",
              "          }\n",
              "        }\n",
              "      }\n",
              "      const blob = new Blob(buffers, {type: 'application/binary'});\n",
              "      const a = document.createElement('a');\n",
              "      a.href = window.URL.createObjectURL(blob);\n",
              "      a.download = filename;\n",
              "      div.appendChild(a);\n",
              "      a.click();\n",
              "      div.remove();\n",
              "    }\n",
              "  "
            ]
          },
          "metadata": {}
        },
        {
          "output_type": "display_data",
          "data": {
            "text/plain": [
              "<IPython.core.display.Javascript object>"
            ],
            "application/javascript": [
              "download(\"download_0dd9c2d7-b1ef-43f2-a46a-bf1ec8f28513\", \"chrysisRagDeepThought_outputs.zip\", 11237174)"
            ]
          },
          "metadata": {}
        }
      ]
    }
  ]
}